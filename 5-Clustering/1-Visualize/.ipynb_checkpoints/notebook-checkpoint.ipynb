{
 "cells": [
  {
   "cell_type": "markdown",
   "metadata": {},
   "source": [
    "# Nigerian Music scraped from Spotify - an analysis"
   ]
  },
  {
   "cell_type": "code",
   "execution_count": 3,
   "metadata": {},
   "outputs": [
    {
     "name": "stdout",
     "output_type": "stream",
     "text": [
      "<class 'pandas.core.frame.DataFrame'>\n",
      "RangeIndex: 530 entries, 0 to 529\n",
      "Data columns (total 16 columns):\n",
      " #   Column            Non-Null Count  Dtype  \n",
      "---  ------            --------------  -----  \n",
      " 0   name              530 non-null    object \n",
      " 1   album             530 non-null    object \n",
      " 2   artist            530 non-null    object \n",
      " 3   artist_top_genre  530 non-null    object \n",
      " 4   release_date      530 non-null    int64  \n",
      " 5   length            530 non-null    int64  \n",
      " 6   popularity        530 non-null    int64  \n",
      " 7   danceability      530 non-null    float64\n",
      " 8   acousticness      530 non-null    float64\n",
      " 9   energy            530 non-null    float64\n",
      " 10  instrumentalness  530 non-null    float64\n",
      " 11  liveness          530 non-null    float64\n",
      " 12  loudness          530 non-null    float64\n",
      " 13  speechiness       530 non-null    float64\n",
      " 14  tempo             530 non-null    float64\n",
      " 15  time_signature    530 non-null    int64  \n",
      "dtypes: float64(8), int64(4), object(4)\n",
      "memory usage: 66.4+ KB\n"
     ]
    }
   ],
   "source": [
    "import matplotlib.pyplot as plt\n",
    "import pandas as pd\n",
    "\n",
    "df = pd.read_csv(\"../data/nigerian-songs.csv\")\n",
    "# df\n",
    "df.info()"
   ]
  },
  {
   "cell_type": "code",
   "execution_count": null,
   "metadata": {},
   "outputs": [],
   "source": []
  }
 ],
 "metadata": {
  "kernelspec": {
   "display_name": "Python 3 (ipykernel)",
   "language": "python",
   "name": "python3"
  },
  "language_info": {
   "codemirror_mode": {
    "name": "ipython",
    "version": 3
   },
   "file_extension": ".py",
   "mimetype": "text/x-python",
   "name": "python",
   "nbconvert_exporter": "python",
   "pygments_lexer": "ipython3",
   "version": "3.10.6"
  }
 },
 "nbformat": 4,
 "nbformat_minor": 2
}
